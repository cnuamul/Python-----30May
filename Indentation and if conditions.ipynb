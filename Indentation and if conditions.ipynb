{
 "cells": [
  {
   "cell_type": "markdown",
   "metadata": {},
   "source": [
    "# conditional statements"
   ]
  },
  {
   "cell_type": "code",
   "execution_count": null,
   "metadata": {},
   "outputs": [],
   "source": [
    "if statement is used for decision."
   ]
  },
  {
   "cell_type": "code",
   "execution_count": null,
   "metadata": {},
   "outputs": [],
   "source": [
    "syntax:\n",
    "    if condition:\n",
    "        body of if\n",
    "        "
   ]
  },
  {
   "cell_type": "code",
   "execution_count": null,
   "metadata": {},
   "outputs": [],
   "source": [
    "Indentation is nothing but just the amount of free space inside a code of block.\n",
    "In other programming languages we have a concept of braces {} to put a code inside a block either if condition or loop or anything\n",
    "But in python we just left few spaces and space size or ampount of indentation should be equal throughout the block or program "
   ]
  },
  {
   "cell_type": "code",
   "execution_count": 2,
   "metadata": {},
   "outputs": [
    {
     "name": "stdout",
     "output_type": "stream",
     "text": [
      "i am out of if\n"
     ]
    }
   ],
   "source": [
    "a = \"apple\"\n",
    "if a == \"appl\":\n",
    "    print(\"condition is true\")\n",
    "print(\"i am out of if\") #first unindent line."
   ]
  },
  {
   "cell_type": "code",
   "execution_count": null,
   "metadata": {},
   "outputs": [],
   "source": [
    "x = 4\n",
    "if x is even print(\"number is even\")\n",
    "what will be the condition for even?\n",
    "?\n",
    "x%2==0 if i divide the number by 2 and mera remainder zero aa gya so it means ki \n",
    "number even h"
   ]
  },
  {
   "cell_type": "code",
   "execution_count": 7,
   "metadata": {},
   "outputs": [
    {
     "name": "stdout",
     "output_type": "stream",
     "text": [
      "5  not even\n"
     ]
    }
   ],
   "source": [
    "x = 5\n",
    "if x%2 == 0:\n",
    "    print(x, \"is even\")\n",
    "else:#if condition inside if is false\n",
    "    #then else wala part will get executed.\n",
    "    print(x,\"is not even\")"
   ]
  },
  {
   "cell_type": "code",
   "execution_count": null,
   "metadata": {},
   "outputs": [],
   "source": [
    "#Here the program evaluates the test expression or condition and will \n",
    "#execute statements only if the test expression is True.\n",
    "if the test expression is false , the body of the else will get executed."
   ]
  },
  {
   "cell_type": "code",
   "execution_count": null,
   "metadata": {},
   "outputs": [],
   "source": [
    "How to take an input from the user?\n",
    "It is very easy to take a input from the user \n",
    "By using input function.\n",
    "NOTE: By default type of the input function is string."
   ]
  },
  {
   "cell_type": "code",
   "execution_count": 11,
   "metadata": {},
   "outputs": [
    {
     "name": "stdout",
     "output_type": "stream",
     "text": [
      "Enter a number ... 5\n",
      "5 is odd\n"
     ]
    }
   ],
   "source": [
    "y = int(input(\"Enter a number ... \"))\n",
    "if y % 2 ==0:\n",
    "    print(y , \"is even\")\n",
    "else:\n",
    "    print(y , \"is odd\")"
   ]
  },
  {
   "cell_type": "code",
   "execution_count": 12,
   "metadata": {},
   "outputs": [
    {
     "data": {
      "text/plain": [
       "int"
      ]
     },
     "execution_count": 12,
     "metadata": {},
     "output_type": "execute_result"
    }
   ],
   "source": [
    "type(y)"
   ]
  },
  {
   "cell_type": "code",
   "execution_count": null,
   "metadata": {},
   "outputs": [],
   "source": [
    "WAP to find that either a number entered by user is positive or negative?"
   ]
  },
  {
   "cell_type": "code",
   "execution_count": 13,
   "metadata": {},
   "outputs": [
    {
     "name": "stdout",
     "output_type": "stream",
     "text": [
      "Enter a number ... 6\n",
      "6 is positive\n"
     ]
    }
   ],
   "source": [
    "y = int(input(\"Enter a number ... \"))\n",
    "if y > 0:\n",
    "    print(y , \"is positive\")\n",
    "else:\n",
    "    print(y , \"is negitive\")\n"
   ]
  },
  {
   "cell_type": "code",
   "execution_count": null,
   "metadata": {},
   "outputs": [],
   "source": [
    "WAP in python\n",
    "Input from the user --- year_of_exp and salary\n",
    "if year_of exp is greater than 5 years and salary is more than 25k , bonus of 10%\n",
    "print bonus, new_sal = oldsal + bonus\n",
    "else\n",
    "print(\"u are not eligible for the bonus\")"
   ]
  },
  {
   "cell_type": "code",
   "execution_count": 14,
   "metadata": {},
   "outputs": [
    {
     "name": "stdout",
     "output_type": "stream",
     "text": [
      "please enter your salary30000\n",
      "Please enter your experience10\n",
      "You are eligible for bonus\n",
      "your bonus amount is 3000.0\n",
      "Your new salary is  33000.0\n"
     ]
    }
   ],
   "source": [
    "sal = int(input(\"please enter your salary\"))\n",
    "y_o_x = int(input(\"Please enter your experience\"))\n",
    "if sal >25000 and y_o_x >5:\n",
    "    print(\"You are eligible for bonus\")\n",
    "    bonus = (sal * 10)/100\n",
    "    print(\"your bonus amount is\" , bonus)\n",
    "    new_sal = sal + bonus\n",
    "    print(\"Your new salary is \" , new_sal)\n",
    "else:\n",
    "    print(\"you are not eligible for bonus\")"
   ]
  },
  {
   "cell_type": "code",
   "execution_count": null,
   "metadata": {},
   "outputs": [],
   "source": [
    "Take value of length and breadth of a rectangle from user and check if it is square or not."
   ]
  },
  {
   "cell_type": "code",
   "execution_count": 16,
   "metadata": {},
   "outputs": [
    {
     "name": "stdout",
     "output_type": "stream",
     "text": [
      "Enter Length: 4\n",
      "Enter Breadth: 4\n",
      "it is square\n"
     ]
    }
   ],
   "source": [
    "l = int(input(\"Enter Length: \"))\n",
    "b = int(input(\"Enter Breadth: \"))\n",
    "\n",
    "if l == b: \n",
    "    print(\"it is square\")\n",
    "else:\n",
    "    print(\"it is not square\")\n"
   ]
  },
  {
   "cell_type": "code",
   "execution_count": null,
   "metadata": {},
   "outputs": [],
   "source": [
    "WAP A shop will give discount of 10% if the cost of purchased quantity is more than 1000.\n",
    "Ask user for quantity.\n",
    "print discount, discounted cost of user."
   ]
  },
  {
   "cell_type": "code",
   "execution_count": 17,
   "metadata": {},
   "outputs": [
    {
     "name": "stdout",
     "output_type": "stream",
     "text": [
      "Enter Total Quanity: 2000\n",
      "you are elegible for 10% discount on 2000\n",
      "Total discount-  200.0\n",
      "you need to pay:  1800.0\n"
     ]
    }
   ],
   "source": [
    "qt = int(input(\"Enter Total Quanity: \"))\n",
    "\n",
    "if qt >1000:\n",
    "    print(\"you are elegible for 10% discount on\", qt)\n",
    "    print(\"Total discount- \", (qt*10)/100)\n",
    "    print(\"you need to pay: \", qt - ((qt*10)/100))\n",
    "else:\n",
    "    print(\"not eligible\")\n"
   ]
  },
  {
   "cell_type": "code",
   "execution_count": null,
   "metadata": {},
   "outputs": [],
   "source": [
    "In real time scenarios we have multiple conditions instead of two."
   ]
  },
  {
   "cell_type": "code",
   "execution_count": 18,
   "metadata": {},
   "outputs": [
    {
     "name": "stdout",
     "output_type": "stream",
     "text": [
      "enter your number...4\n",
      "4 is positive\n"
     ]
    }
   ],
   "source": [
    "x =  int(input(\"enter your number...\"))\n",
    "if x >0 :\n",
    "    print(x, \"is positive\")\n",
    "elif x == 0:\n",
    "    print(x, \"is zero\")\n",
    "else:\n",
    "    print(x , \"is negative\")"
   ]
  },
  {
   "cell_type": "code",
   "execution_count": null,
   "metadata": {},
   "outputs": [],
   "source": [
    "with one if we can have n number of elifs but only one else."
   ]
  },
  {
   "cell_type": "code",
   "execution_count": null,
   "metadata": {},
   "outputs": [],
   "source": [
    "Task1: take two int values from user and print the greatest among them.\n",
    "Task2 : A school has following rules for grading system:\n",
    "        a. Below 25 - F\n",
    "        b. 25 to 45 - E\n",
    "        c. 45 to 50 - D\n",
    "        d. 50 to 60 - C\n",
    "        e. 60 to 80 - B\n",
    "        f. Above 80 - A\n",
    "    Ask user to enter marks ans print the correspoding grade.\n",
    "Task3 : Take input of age of 3 people by user and determine oldest and youngest among them.\n",
    "task4 : a student will not be allowed to sit in exam if his/her attendence is than 75%\n",
    "        take the following input from the user.\n",
    "        Number of classes held.\n",
    "        number of class attended\n",
    "        and print percentage of class attended and check\n",
    "        is student is allowed to sit in the exam or not."
   ]
  },
  {
   "cell_type": "code",
   "execution_count": 19,
   "metadata": {},
   "outputs": [
    {
     "name": "stdout",
     "output_type": "stream",
     "text": [
      "enter number 5\n"
     ]
    }
   ],
   "source": [
    "z = float(input(\"enter number \"))"
   ]
  },
  {
   "cell_type": "code",
   "execution_count": 20,
   "metadata": {},
   "outputs": [
    {
     "data": {
      "text/plain": [
       "float"
      ]
     },
     "execution_count": 20,
     "metadata": {},
     "output_type": "execute_result"
    }
   ],
   "source": [
    "type(z)"
   ]
  },
  {
   "cell_type": "code",
   "execution_count": null,
   "metadata": {},
   "outputs": [],
   "source": []
  }
 ],
 "metadata": {
  "kernelspec": {
   "display_name": "Python 3",
   "language": "python",
   "name": "python3"
  },
  "language_info": {
   "codemirror_mode": {
    "name": "ipython",
    "version": 3
   },
   "file_extension": ".py",
   "mimetype": "text/x-python",
   "name": "python",
   "nbconvert_exporter": "python",
   "pygments_lexer": "ipython3",
   "version": "3.7.1"
  }
 },
 "nbformat": 4,
 "nbformat_minor": 2
}
