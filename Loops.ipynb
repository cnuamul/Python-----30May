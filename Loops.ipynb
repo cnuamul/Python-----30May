{
 "cells": [
  {
   "cell_type": "code",
   "execution_count": null,
   "metadata": {},
   "outputs": [],
   "source": [
    "what is the meaning of loop?\n",
    "In computer programming, a loop is a sequence of instructions that is repeated until\n",
    "a certain condition is reached. \n",
    "Aise circumstances jab hume koi ek task baar baar perform krna hota h tab hum loops ka use \n",
    "krte h kisi bhi programming language m.\n",
    "In python:\n",
    "    1. for loop\n",
    "    2.  while loop\n"
   ]
  },
  {
   "cell_type": "code",
   "execution_count": null,
   "metadata": {},
   "outputs": [],
   "source": [
    "For loop :\n",
    "a. for element in sequence.\n",
    "A for loop in python is used for iterating over a sequence(sequence can be a list,tuple,dict or string.)"
   ]
  },
  {
   "cell_type": "code",
   "execution_count": 2,
   "metadata": {},
   "outputs": [],
   "source": [
    "fruits = [ \"apple\",\"mango\",\"banana\",\"cherry\"]\n",
    "#i want to display all the elements of a list one by one?"
   ]
  },
  {
   "cell_type": "code",
   "execution_count": 3,
   "metadata": {},
   "outputs": [
    {
     "data": {
      "text/plain": [
       "'apple'"
      ]
     },
     "execution_count": 3,
     "metadata": {},
     "output_type": "execute_result"
    }
   ],
   "source": [
    "fruits[0]"
   ]
  },
  {
   "cell_type": "code",
   "execution_count": 4,
   "metadata": {},
   "outputs": [
    {
     "data": {
      "text/plain": [
       "'mango'"
      ]
     },
     "execution_count": 4,
     "metadata": {},
     "output_type": "execute_result"
    }
   ],
   "source": [
    "fruits[1]"
   ]
  },
  {
   "cell_type": "code",
   "execution_count": 5,
   "metadata": {},
   "outputs": [
    {
     "data": {
      "text/plain": [
       "'banana'"
      ]
     },
     "execution_count": 5,
     "metadata": {},
     "output_type": "execute_result"
    }
   ],
   "source": [
    "fruits[2]"
   ]
  },
  {
   "cell_type": "code",
   "execution_count": null,
   "metadata": {},
   "outputs": [],
   "source": [
    "As we noticed above that to print elements one by one\n",
    "i need to call my index value with increment one by one.\n",
    "This means i have to perform similar task again and again.\n",
    "To avoid such problems python provides me for loop.\n",
    "n i.e for value in sequence.\n",
    "Syntax: for i(iterator) in(membership operator) sequence(list,tuple):\n",
    "            Body of the loop.\n",
    "\n",
    "\n",
    "\n",
    "\n",
    "\n",
    "\n"
   ]
  },
  {
   "cell_type": "code",
   "execution_count": 11,
   "metadata": {},
   "outputs": [
    {
     "name": "stdout",
     "output_type": "stream",
     "text": [
      "apple\n",
      "mango\n",
      "banana\n",
      "cherry\n"
     ]
    }
   ],
   "source": [
    "for i in fruits:\n",
    "    print(i)"
   ]
  },
  {
   "cell_type": "code",
   "execution_count": 12,
   "metadata": {},
   "outputs": [],
   "source": [
    "numbers = [4,5,6,7,8,1,2,3]\n",
    "#I need sum of all numbers present in a list numbers."
   ]
  },
  {
   "cell_type": "code",
   "execution_count": 15,
   "metadata": {},
   "outputs": [
    {
     "name": "stdout",
     "output_type": "stream",
     "text": [
      "36\n"
     ]
    }
   ],
   "source": [
    "#a variable to store a sum\n",
    "sum = 0\n",
    "#iterate over the loop\n",
    "for i in numbers:\n",
    "    sum = sum + i\n",
    "print(sum)"
   ]
  },
  {
   "cell_type": "code",
   "execution_count": 16,
   "metadata": {},
   "outputs": [
    {
     "name": "stdout",
     "output_type": "stream",
     "text": [
      "40320\n"
     ]
    }
   ],
   "source": [
    "#ab aapko multipication krna h.\n",
    "mul= 1\n",
    "#iterate over the loop\n",
    "for i in numbers:\n",
    "    mul = mul * i\n",
    "print(mul)"
   ]
  },
  {
   "cell_type": "code",
   "execution_count": 17,
   "metadata": {},
   "outputs": [
    {
     "data": {
      "text/plain": [
       "['apple', 'mango', 'banana', 'cherry']"
      ]
     },
     "execution_count": 17,
     "metadata": {},
     "output_type": "execute_result"
    }
   ],
   "source": [
    "fruits"
   ]
  },
  {
   "cell_type": "code",
   "execution_count": null,
   "metadata": {},
   "outputs": [],
   "source": [
    "i need to print elements of a list fruits \n",
    "but now i want when i == banana then exit the loop.\n",
    "mujhe loop s bhr aana h jaise hee i ki value banana \n",
    "ho jati h.\n",
    "for such cases we use \"break\" keyword.\n",
    "with the break statement we can stop the loop at a \n",
    "particular condition."
   ]
  },
  {
   "cell_type": "code",
   "execution_count": 21,
   "metadata": {},
   "outputs": [
    {
     "name": "stdout",
     "output_type": "stream",
     "text": [
      "apple\n",
      "mango\n",
      "banana\n",
      "welcome\n"
     ]
    }
   ],
   "source": [
    "for i in fruits:\n",
    "    print(i)\n",
    "    if i == \"banana\":\n",
    "        break\n",
    "print(\"welcome\")\n",
    "    "
   ]
  },
  {
   "cell_type": "code",
   "execution_count": null,
   "metadata": {},
   "outputs": [],
   "source": [
    "wwrite a program using for loop and print \"p\",\"y\",\"t\" from \"python.\""
   ]
  },
  {
   "cell_type": "code",
   "execution_count": 27,
   "metadata": {},
   "outputs": [
    {
     "name": "stdout",
     "output_type": "stream",
     "text": [
      "p\n",
      "y\n",
      "t\n"
     ]
    }
   ],
   "source": [
    "a = []\n",
    "for i in \"python\":\n",
    "    print(i)\n",
    "    if i == \"t\":\n",
    "        break"
   ]
  },
  {
   "cell_type": "code",
   "execution_count": null,
   "metadata": {},
   "outputs": [],
   "source": [
    "jab sirf i ki value t ho then mera loop execute na ho\n",
    "uske baad jitni values bachti h unke liye normal chlta rhe\n",
    "p\n",
    "y\n",
    "h\n",
    "o\n",
    "n"
   ]
  },
  {
   "cell_type": "code",
   "execution_count": 31,
   "metadata": {},
   "outputs": [
    {
     "name": "stdout",
     "output_type": "stream",
     "text": [
      "p\n",
      "y\n",
      "h\n",
      "o\n",
      "n\n"
     ]
    }
   ],
   "source": [
    "for i in \"python\":\n",
    "    #print(i)\n",
    "    if i == \"t\":\n",
    "        continue\n",
    "    print(i)\n",
    "        \n",
    "    "
   ]
  },
  {
   "cell_type": "code",
   "execution_count": null,
   "metadata": {},
   "outputs": [],
   "source": [
    "There exist a function in python named as range() functioon:\n",
    " Return an object that produces a sequence of integers from start (inclusive)\n",
    "to stop (exclusive) by step.  range(i, j) produces i, i+1, i+2, ..., j-1.   "
   ]
  },
  {
   "cell_type": "code",
   "execution_count": 34,
   "metadata": {},
   "outputs": [],
   "source": [
    "a = list(range(0,5))"
   ]
  },
  {
   "cell_type": "code",
   "execution_count": 35,
   "metadata": {},
   "outputs": [
    {
     "data": {
      "text/plain": [
       "[0, 1, 2, 3, 4]"
      ]
     },
     "execution_count": 35,
     "metadata": {},
     "output_type": "execute_result"
    }
   ],
   "source": [
    "a"
   ]
  },
  {
   "cell_type": "code",
   "execution_count": null,
   "metadata": {},
   "outputs": [],
   "source": [
    "range also have 3 parameters\n",
    "start, stop, step.\n"
   ]
  },
  {
   "cell_type": "code",
   "execution_count": 36,
   "metadata": {},
   "outputs": [],
   "source": [
    "b = list(range(0,10,2))"
   ]
  },
  {
   "cell_type": "code",
   "execution_count": 37,
   "metadata": {},
   "outputs": [
    {
     "data": {
      "text/plain": [
       "[0, 2, 4, 6, 8]"
      ]
     },
     "execution_count": 37,
     "metadata": {},
     "output_type": "execute_result"
    }
   ],
   "source": [
    "b"
   ]
  },
  {
   "cell_type": "code",
   "execution_count": null,
   "metadata": {},
   "outputs": [],
   "source": [
    "Appko ek python m list banani h jiska naam \"odd\" hoga and usme 1 se lekr\n",
    "100 tk k odd numbers present hoga.\n",
    "using range function.\n"
   ]
  },
  {
   "cell_type": "code",
   "execution_count": 40,
   "metadata": {},
   "outputs": [],
   "source": [
    "odd=list(range(1,101,2))\n"
   ]
  },
  {
   "cell_type": "code",
   "execution_count": 42,
   "metadata": {},
   "outputs": [
    {
     "name": "stdout",
     "output_type": "stream",
     "text": [
      "[1, 3, 5, 7, 9, 11, 13, 15, 17, 19, 21, 23, 25, 27, 29, 31, 33, 35, 37, 39, 41, 43, 45, 47, 49, 51, 53, 55, 57, 59, 61, 63, 65, 67, 69, 71, 73, 75, 77, 79, 81, 83, 85, 87, 89, 91, 93, 95, 97, 99]\n"
     ]
    }
   ],
   "source": [
    "print(odd, sep = \" \")"
   ]
  },
  {
   "cell_type": "code",
   "execution_count": null,
   "metadata": {},
   "outputs": [],
   "source": [
    "#this for loop is someting known as index in range"
   ]
  },
  {
   "cell_type": "code",
   "execution_count": null,
   "metadata": {},
   "outputs": [],
   "source": []
  },
  {
   "cell_type": "code",
   "execution_count": 44,
   "metadata": {},
   "outputs": [
    {
     "name": "stdout",
     "output_type": "stream",
     "text": [
      "0\n",
      "1\n",
      "2\n",
      "3\n",
      "4\n"
     ]
    }
   ],
   "source": [
    "for i in range(5):\n",
    "    print(i)"
   ]
  },
  {
   "cell_type": "code",
   "execution_count": 45,
   "metadata": {},
   "outputs": [],
   "source": [
    "fruits = [\"apple\",\"mango\",\"banana\",\"cherry\"]"
   ]
  },
  {
   "cell_type": "code",
   "execution_count": null,
   "metadata": {},
   "outputs": [],
   "source": []
  },
  {
   "cell_type": "code",
   "execution_count": 46,
   "metadata": {},
   "outputs": [
    {
     "data": {
      "text/plain": [
       "5"
      ]
     },
     "execution_count": 46,
     "metadata": {},
     "output_type": "execute_result"
    }
   ],
   "source": [
    "len(\"apple\")"
   ]
  },
  {
   "cell_type": "code",
   "execution_count": null,
   "metadata": {},
   "outputs": [],
   "source": [
    "apple  5\n",
    "mango  5\n",
    "banana 6\n",
    "cherry 6\n",
    "hint: range and len"
   ]
  },
  {
   "cell_type": "code",
   "execution_count": 47,
   "metadata": {},
   "outputs": [
    {
     "name": "stdout",
     "output_type": "stream",
     "text": [
      "5\n",
      "5\n",
      "6\n"
     ]
    }
   ],
   "source": [
    "fruits=[\"apple\",\"mango\",\"banana\"]\n",
    "for i in fruits:\n",
    "    print(len(i))\n"
   ]
  },
  {
   "cell_type": "code",
   "execution_count": 49,
   "metadata": {},
   "outputs": [
    {
     "name": "stdout",
     "output_type": "stream",
     "text": [
      "apple 5\n",
      "mango 5\n",
      "banana 6\n"
     ]
    }
   ],
   "source": [
    "fruits=[\"apple\",\"mango\",\"banana\"]\n",
    "for i in fruits:\n",
    "    print(i,len(i))\n",
    "\n",
    "    "
   ]
  },
  {
   "cell_type": "code",
   "execution_count": 50,
   "metadata": {},
   "outputs": [
    {
     "ename": "SyntaxError",
     "evalue": "invalid syntax (<ipython-input-50-1d4ca5f26874>, line 1)",
     "output_type": "error",
     "traceback": [
      "\u001b[1;36m  File \u001b[1;32m\"<ipython-input-50-1d4ca5f26874>\"\u001b[1;36m, line \u001b[1;32m1\u001b[0m\n\u001b[1;33m    for i range(fruits):\u001b[0m\n\u001b[1;37m              ^\u001b[0m\n\u001b[1;31mSyntaxError\u001b[0m\u001b[1;31m:\u001b[0m invalid syntax\n"
     ]
    }
   ],
   "source": [
    "for i range(fruits):\n",
    "    print(i)\n",
    "range humesha input numeric value leta h -- integer leta h\n",
    "kya fruits integer h? No, fruits is list"
   ]
  },
  {
   "cell_type": "code",
   "execution_count": 53,
   "metadata": {},
   "outputs": [
    {
     "data": {
      "text/plain": [
       "3"
      ]
     },
     "execution_count": 53,
     "metadata": {},
     "output_type": "execute_result"
    }
   ],
   "source": [
    "len(fruits)"
   ]
  },
  {
   "cell_type": "code",
   "execution_count": null,
   "metadata": {},
   "outputs": [],
   "source": [
    "For loop k two types hote h\n",
    "1. for value in seqyence jo hume sequence(list,tuple or dict,string) m rakhe elements ki value return krta h\n",
    "2. for index in range jo hume specified range k corresponding index value return krta h.\n",
    "3. range function ka parameter humesha numeric hota h mtlb integer hota h."
   ]
  },
  {
   "cell_type": "code",
   "execution_count": 54,
   "metadata": {},
   "outputs": [
    {
     "name": "stdout",
     "output_type": "stream",
     "text": [
      "apple\n",
      "mango\n",
      "banana\n"
     ]
    }
   ],
   "source": [
    "for i in fruits:\n",
    "    print(i)"
   ]
  },
  {
   "cell_type": "code",
   "execution_count": 59,
   "metadata": {},
   "outputs": [
    {
     "name": "stdout",
     "output_type": "stream",
     "text": [
      "0 apple 5\n",
      "1 mango 5\n",
      "2 banana 6\n"
     ]
    }
   ],
   "source": [
    "for i in range(len(fruits)):\n",
    "    print(i,fruits[i],len(fruits[i]))"
   ]
  },
  {
   "cell_type": "code",
   "execution_count": 57,
   "metadata": {},
   "outputs": [
    {
     "name": "stdout",
     "output_type": "stream",
     "text": [
      "I like  pop\n",
      "I like  rock\n",
      "I like  jazz\n"
     ]
    }
   ],
   "source": [
    "genre = [\"pop\",\"rock\",\"jazz\"]\n",
    "for i in range(len(genre)):\n",
    "    print(\"I like \" , genre[i])"
   ]
  },
  {
   "cell_type": "code",
   "execution_count": 60,
   "metadata": {},
   "outputs": [
    {
     "name": "stdout",
     "output_type": "stream",
     "text": [
      "I like  pop\n",
      "I like  rock\n",
      "I like  jazz\n",
      "I really like music\n"
     ]
    }
   ],
   "source": [
    "genre = [\"pop\",\"rock\",\"jazz\"]\n",
    "for i in range(len(genre)):\n",
    "    print(\"I like \" , genre[i])\n",
    "else:#loops k sath else is always executed.\n",
    "    print(\"I really like music\")"
   ]
  },
  {
   "cell_type": "code",
   "execution_count": null,
   "metadata": {},
   "outputs": [],
   "source": [
    "WAP., Given a list iterate it and display numbers which are divisible by 5\n",
    "and if you find number greater than 150 stop the loop iteration.\n",
    "list1 = [12,15,32,42,55,75,122,132,150,180]\n",
    "Expected output:\n",
    "    15,55,75,150"
   ]
  },
  {
   "cell_type": "code",
   "execution_count": 61,
   "metadata": {},
   "outputs": [
    {
     "name": "stdout",
     "output_type": "stream",
     "text": [
      "15\n",
      "55\n",
      "75\n",
      "150\n"
     ]
    }
   ],
   "source": [
    "list1 = [12,15,32,42,55,75,122,132,150,180]\n",
    "for i in list1:\n",
    "    if i >150:\n",
    "        break\n",
    "    if i%5 ==0:\n",
    "        print(i)"
   ]
  },
  {
   "cell_type": "code",
   "execution_count": null,
   "metadata": {},
   "outputs": [],
   "source": []
  }
 ],
 "metadata": {
  "kernelspec": {
   "display_name": "Python 3",
   "language": "python",
   "name": "python3"
  },
  "language_info": {
   "codemirror_mode": {
    "name": "ipython",
    "version": 3
   },
   "file_extension": ".py",
   "mimetype": "text/x-python",
   "name": "python",
   "nbconvert_exporter": "python",
   "pygments_lexer": "ipython3",
   "version": "3.7.1"
  }
 },
 "nbformat": 4,
 "nbformat_minor": 2
}
