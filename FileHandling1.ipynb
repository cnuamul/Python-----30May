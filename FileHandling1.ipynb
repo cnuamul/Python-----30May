{
 "cells": [
  {
   "cell_type": "code",
   "execution_count": 1,
   "metadata": {},
   "outputs": [
    {
     "name": "stdout",
     "output_type": "stream",
     "text": [
      "_____________________________________\n",
      "  \n",
      "Welcome to  our pizza ordering system\n",
      "_____________________________________\n",
      "   \n",
      "Enter the name of the customer : sakshi\n",
      "Enter the phone number of the customer : 876986756\n",
      "Enter the numbers of pizzas you want : 2\n",
      "Category               Item                Price\n",
      "________________________________________________________\n",
      "   \n",
      "Crust                  Thin                4.00\n",
      "base                   Thick               6.50\n",
      "                       Wood fired          8.50\n",
      "   \n",
      "Cheese Style           Chedder               .5\n",
      "                       Colby                 .5\n",
      "                       Edam                  .5\n",
      "                       Emmental              .5\n",
      "                       Gruyere               .5\n",
      "                       Mozzarella            .5\n",
      "                       Provolone             .5\n",
      "                       Ricotta               .5\n",
      "    \n",
      "Topping Choices        Tomato              0.75\n",
      "                       Mushrooms           0.75\n",
      "                       Pepperoni           0.50\n",
      "                       Onions              0.25\n",
      "                       Black Olives        0.75\n",
      "                       Green Peppers       0.50\n",
      "                       Anchovies           0.25\n",
      "                       Garlic              0.50\n",
      "                       Ham                 1.50\n",
      "                       Bacon               1.25\n",
      "________________________________________________________\n",
      "    \n",
      "please enter your crust base for pizza 1\n",
      "Thin\n",
      "0\n",
      "Please enter your pizza's cheese style\n",
      "  \n",
      "You can add maximum of 3 cheese only\n",
      "If you want to add only 1 cheese press 1.\n",
      "If you want to add 2 cheeses press 2.\n",
      "If you want to add 3 cheeses press 3.\n",
      "   \n",
      "Enter your choice : 2\n",
      "Enter your cheese : Colby\n",
      "Enter your cheese : Edam\n",
      "  \n",
      "Enter your pizza topping\n",
      "You can add maximum of 6 toppings only\n",
      "If you want to add only 1 topping press 1.\n",
      "If you want to add 2 toppings press 2.\n",
      "If you want to add 3 toppings press 3.\n",
      "If you want to add 4 toppings press 4.\n",
      "If you want to add 5 toppings press 5.\n",
      "If you want to add 6 toppings press 6.\n",
      "   \n",
      "Enter your choice : 1\n",
      "Enter your pizza topping : Tomato\n",
      "    \n",
      "----------Your total pizza bill----------\n",
      "bill for pizza : 1\n",
      "crust : Thin\n",
      "crust price : 4.0\n",
      "  \n",
      "cheese :  Colby\n",
      "cheese price:  0.5\n",
      "   \n",
      "cheese :  Edam\n",
      "cheese price:  0.5\n",
      "   \n",
      "Topping :  Tomato\n",
      "Topping price :  0.75\n",
      "    \n",
      "    \n",
      "please enter your crust base for pizza 2\n",
      "Thick\n",
      "1\n",
      "Please enter your pizza's cheese style\n",
      "  \n",
      "You can add maximum of 3 cheese only\n",
      "If you want to add only 1 cheese press 1.\n",
      "If you want to add 2 cheeses press 2.\n",
      "If you want to add 3 cheeses press 3.\n",
      "   \n",
      "Enter your choice : 1\n",
      "Enter your cheese : Edam\n",
      "  \n",
      "Enter your pizza topping\n",
      "You can add maximum of 6 toppings only\n",
      "If you want to add only 1 topping press 1.\n",
      "If you want to add 2 toppings press 2.\n",
      "If you want to add 3 toppings press 3.\n",
      "If you want to add 4 toppings press 4.\n",
      "If you want to add 5 toppings press 5.\n",
      "If you want to add 6 toppings press 6.\n",
      "   \n",
      "Enter your choice : 1\n",
      "Enter your pizza topping : Tomato\n",
      "    \n",
      "----------Your total pizza bill----------\n",
      "bill for pizza : 2\n",
      "crust : Thick\n",
      "crust price : 6.5\n",
      "  \n",
      "cheese :  Edam\n",
      "cheese price:  0.5\n",
      "   \n",
      "---------Your bill is------- \n",
      "Bill of pizza 1 is\n",
      "5.75\n",
      "Bill of pizza 2 is\n",
      "7.0\n",
      "Your total bill for 2 pizza is\n",
      "12.75\n"
     ]
    }
   ],
   "source": [
    "print(\"_____________________________________\")\n",
    "print(\"  \")\n",
    "print(\"Welcome to  our pizza ordering system\")\n",
    "print(\"_____________________________________\")\n",
    "print(\"   \")\n",
    "crust_base=[\"Thin\",\"Thick\",\"Wood fired\"]\n",
    "crust_price=[4.00,6.50,8.50]\n",
    "cheese_style=[\"Chedder\",\"Colby\",\"Edam\",\"Emmental\",\"Gruyere\",\"Mozzarella\",\"Provolone\",\"Ricotta\"]\n",
    "cheese_price=[0.5,0.5,0.5,0.5,0.5,0.5,0.5,0.5]\n",
    "topping_choice=[\"Tomato\",\"Mushrooms\",\"Pepperoni\",\"Onions\",\"Black Olives\",\"Green Peppers\",\"Anchovies\",\"Garlic\",\"Ham\",\"Bacon\"]\n",
    "topping_price=[0.75,0.75,0.50,0.25,0.75,0.50,0.25,0.50,1.50,1.25]\n",
    "name=input(\"Enter the name of the customer : \")\n",
    "phone=int(input(\"Enter the phone number of the customer : \"))\n",
    "pizz=int(input(\"Enter the numbers of pizzas you want : \"))\n",
    "print(\"Category\",\"             \",\"Item\",\"              \",\"Price\")\n",
    "print(\"________________________________________________________\")\n",
    "print(\"   \")\n",
    "print('''Crust                  Thin                4.00\n",
    "base                   Thick               6.50\n",
    "                       Wood fired          8.50''')\n",
    "print(\"   \")\n",
    "print(\"Cheese Style\",\"       \",'''  Chedder               .5\n",
    "                       Colby                 .5\n",
    "                       Edam                  .5\n",
    "                       Emmental              .5\n",
    "                       Gruyere               .5\n",
    "                       Mozzarella            .5\n",
    "                       Provolone             .5\n",
    "                       Ricotta               .5''')\n",
    "print(\"    \")\n",
    "print(\"Topping Choices\",\"      \",'''Tomato              0.75\n",
    "                       Mushrooms           0.75\n",
    "                       Pepperoni           0.50\n",
    "                       Onions              0.25\n",
    "                       Black Olives        0.75\n",
    "                       Green Peppers       0.50\n",
    "                       Anchovies           0.25\n",
    "                       Garlic              0.50\n",
    "                       Ham                 1.50\n",
    "                       Bacon               1.25''')\n",
    "print(\"________________________________________________________\")\n",
    "crust=[]\n",
    "cprice=[]\n",
    "cheese=[]\n",
    "chprice=[]\n",
    "topping=[]\n",
    "tprice=[]\n",
    "z=0\n",
    "a=0\n",
    "q=0\n",
    "sum=0\n",
    "sum1=0\n",
    "sum2=0\n",
    "sum3=0\n",
    "sumf=[]\n",
    "\n",
    "for i in range(0,pizz):\n",
    "    print(\"    \")\n",
    "    print(\"please enter your crust base for pizza\",i+1)\n",
    "    cb=input()\n",
    "    \n",
    "    if cb.capitalize() in crust_base:\n",
    "        ci=crust_base.index(cb.capitalize())\n",
    "        crust.append(cb.capitalize())\n",
    "        print(ci)\n",
    "        ccc=crust_price[ci]\n",
    "        cprice.append(ccc)\n",
    "    else:\n",
    "        print(\"Enter the correct pizza base\")\n",
    "    \n",
    "    print(\"Please enter your pizza's cheese style\")\n",
    "    print(\"  \")\n",
    "    print('''You can add maximum of 3 cheese only\n",
    "If you want to add only 1 cheese press 1.\n",
    "If you want to add 2 cheeses press 2.\n",
    "If you want to add 3 cheeses press 3.''')\n",
    "    print(\"   \")\n",
    "    choice=int(input(\"Enter your choice : \"))\n",
    "    for m in range(0,choice):\n",
    "        che=input(\"Enter your cheese : \")\n",
    "        if che.capitalize() in cheese_style:\n",
    "            cheese.append(che.capitalize())\n",
    "            cp=cheese_style.index(che.capitalize())\n",
    "            chprice.append(cheese_price[cp])\n",
    "        else:\n",
    "            print(\"Enter the correct choice\")\n",
    "    \n",
    "    print(\"  \")\n",
    "    print(\"Enter your pizza topping\")\n",
    "    print('''You can add maximum of 6 toppings only\n",
    "If you want to add only 1 topping press 1.\n",
    "If you want to add 2 toppings press 2.\n",
    "If you want to add 3 toppings press 3.\n",
    "If you want to add 4 toppings press 4.\n",
    "If you want to add 5 toppings press 5.\n",
    "If you want to add 6 toppings press 6.''')\n",
    "    print(\"   \")\n",
    "    choice1=int(input(\"Enter your choice : \"))\n",
    "    for n in range(0,choice1):\n",
    "        top=input(\"Enter your pizza topping : \")\n",
    "        if top.capitalize() in topping_choice:\n",
    "            topping.append(top.capitalize())\n",
    "            tp=topping_choice.index(top.capitalize())\n",
    "            tprice.append(topping_price[tp])\n",
    "    print(\"    \")\n",
    "    print(\"----------Your total pizza bill----------\")\n",
    "    \n",
    "    for j in range(z,len(crust)):\n",
    "        print(\"bill for pizza :\",j+1)\n",
    "        print(\"crust :\",crust[j])\n",
    "        print(\"crust price :\",cprice[j])\n",
    "        z=len(crust)\n",
    "        sum=sum+cprice[j]\n",
    "        print(\"  \")\n",
    "        \n",
    "        for k in range(a,len(cheese)):\n",
    "            print(\"cheese : \",cheese[k])\n",
    "            print(\"cheese price: \",chprice[k])\n",
    "            a=len(cheese)\n",
    "            sum1=sum1+chprice[k]\n",
    "            print(\"   \")\n",
    "            \n",
    "        \n",
    "        for l in range(q,len(topping)):\n",
    "            print(\"Topping : \",topping[l])\n",
    "            print(\"Topping price : \",tprice[l])\n",
    "            q=len(cheese)\n",
    "            sum2=sum2+tprice[l]\n",
    "            print(\"    \")\n",
    "    sum3=sum+sum1+sum2\n",
    "    sumf.append(sum3)\n",
    "    sum3=0\n",
    "    sum=0\n",
    "    sum1=0\n",
    "    sum2=0\n",
    "print(\"---------Your bill is------- \")\n",
    "for e in range(0,pizz):\n",
    "    print(\"Bill of pizza\",e+1,\"is\")\n",
    "    print(sumf[e])\n",
    "sumt=0            \n",
    "for r in range(0,pizz):\n",
    "    sumt=sumt+sumf[r]\n",
    "print(\"Your total bill for\",pizz,\"pizza is\")\n",
    "print(sumt)\n"
   ]
  },
  {
   "cell_type": "code",
   "execution_count": null,
   "metadata": {},
   "outputs": [],
   "source": [
    "Now, let s just continue with file handling:"
   ]
  },
  {
   "cell_type": "code",
   "execution_count": null,
   "metadata": {},
   "outputs": [],
   "source": [
    "By now we have learnt how to open a file and how to read it by opening it in read (deafult) mode.\n",
    "we also learnt about write mode as well"
   ]
  },
  {
   "cell_type": "code",
   "execution_count": null,
   "metadata": {},
   "outputs": [],
   "source": [
    "In write mode first the will truncated and then we can write someting new in that file.\n",
    "Now we will learn about append mode. \"a\""
   ]
  },
  {
   "cell_type": "code",
   "execution_count": 6,
   "metadata": {},
   "outputs": [],
   "source": [
    "file = open(\"DLBasics.txt\")"
   ]
  },
  {
   "cell_type": "code",
   "execution_count": 7,
   "metadata": {},
   "outputs": [
    {
     "data": {
      "text/plain": [
       "'Hello Everyone\\nis i am audible?\\nok,lets start.\\nIn the previous we had the discussion on Gradient Descent Optimimizer.\\nOptimization: is a process in which we minimize our loss function\\nin order to get reduced generalized loss.\\nTwo type of losses:\\n1. Training loss\\n2. Generalized loss.\\nDo you the difference between them?\\nTraining Test --- error while fitting the training data.\\nTest Test ---- generalized loss\\nx_train,y_test,y_train,x_test.\\nmodel.fit(x_train,y_train)\\nmodel.score(x_train,y_train)--- training loss\\nmodel.score(x_test,y_test)--- generalized loss.\\n\\n\\n'"
      ]
     },
     "execution_count": 7,
     "metadata": {},
     "output_type": "execute_result"
    }
   ],
   "source": [
    "file.read()"
   ]
  },
  {
   "cell_type": "code",
   "execution_count": 8,
   "metadata": {},
   "outputs": [],
   "source": [
    "file.close()"
   ]
  },
  {
   "cell_type": "code",
   "execution_count": 9,
   "metadata": {},
   "outputs": [],
   "source": [
    "file = open(\"DLBasics.txt\",\"a\")"
   ]
  },
  {
   "cell_type": "code",
   "execution_count": 10,
   "metadata": {},
   "outputs": [
    {
     "ename": "UnsupportedOperation",
     "evalue": "not readable",
     "output_type": "error",
     "traceback": [
      "\u001b[1;31m---------------------------------------------------------------------------\u001b[0m",
      "\u001b[1;31mUnsupportedOperation\u001b[0m                      Traceback (most recent call last)",
      "\u001b[1;32m<ipython-input-10-f3fc120c03c1>\u001b[0m in \u001b[0;36m<module>\u001b[1;34m\u001b[0m\n\u001b[1;32m----> 1\u001b[1;33m \u001b[0mfile\u001b[0m\u001b[1;33m.\u001b[0m\u001b[0mread\u001b[0m\u001b[1;33m(\u001b[0m\u001b[1;33m)\u001b[0m\u001b[1;33m\u001b[0m\u001b[1;33m\u001b[0m\u001b[0m\n\u001b[0m",
      "\u001b[1;31mUnsupportedOperation\u001b[0m: not readable"
     ]
    }
   ],
   "source": [
    "file.read()"
   ]
  },
  {
   "cell_type": "code",
   "execution_count": 11,
   "metadata": {},
   "outputs": [
    {
     "data": {
      "text/plain": [
       "True"
      ]
     },
     "execution_count": 11,
     "metadata": {},
     "output_type": "execute_result"
    }
   ],
   "source": [
    "file.writable()"
   ]
  },
  {
   "cell_type": "code",
   "execution_count": 12,
   "metadata": {},
   "outputs": [
    {
     "data": {
      "text/plain": [
       "26"
      ]
     },
     "execution_count": 12,
     "metadata": {},
     "output_type": "execute_result"
    }
   ],
   "source": [
    "file.write(   \" Here i am learning python\"  )"
   ]
  },
  {
   "cell_type": "code",
   "execution_count": 13,
   "metadata": {},
   "outputs": [],
   "source": [
    "file.close()"
   ]
  },
  {
   "cell_type": "code",
   "execution_count": 14,
   "metadata": {},
   "outputs": [],
   "source": [
    "f = open(\"DLBasics.txt\")"
   ]
  },
  {
   "cell_type": "code",
   "execution_count": 15,
   "metadata": {},
   "outputs": [
    {
     "data": {
      "text/plain": [
       "'Hello Everyone\\nis i am audible?\\nok,lets start.\\nIn the previous we had the discussion on Gradient Descent Optimimizer.\\nOptimization: is a process in which we minimize our loss function\\nin order to get reduced generalized loss.\\nTwo type of losses:\\n1. Training loss\\n2. Generalized loss.\\nDo you the difference between them?\\nTraining Test --- error while fitting the training data.\\nTest Test ---- generalized loss\\nx_train,y_test,y_train,x_test.\\nmodel.fit(x_train,y_train)\\nmodel.score(x_train,y_train)--- training loss\\nmodel.score(x_test,y_test)--- generalized loss.\\n\\n\\n Here i am learning python'"
      ]
     },
     "execution_count": 15,
     "metadata": {},
     "output_type": "execute_result"
    }
   ],
   "source": [
    "f.read()"
   ]
  },
  {
   "cell_type": "code",
   "execution_count": null,
   "metadata": {},
   "outputs": [],
   "source": [
    "Task1: you need to read one file dlbasics.txt and write all of its data in new file."
   ]
  },
  {
   "cell_type": "code",
   "execution_count": 16,
   "metadata": {},
   "outputs": [],
   "source": [
    "f.close()"
   ]
  },
  {
   "cell_type": "code",
   "execution_count": 17,
   "metadata": {},
   "outputs": [],
   "source": [
    "f = open(\"open.txt\" , \"w\") "
   ]
  },
  {
   "cell_type": "code",
   "execution_count": 18,
   "metadata": {},
   "outputs": [],
   "source": [
    "f.close()"
   ]
  },
  {
   "cell_type": "code",
   "execution_count": 19,
   "metadata": {},
   "outputs": [],
   "source": [
    "with open(\"DLBasics.txt\") as f:\n",
    "    with open(\"output.txt\",\"w\") as f1:\n",
    "        for line in f:\n",
    "            f1.write(line)"
   ]
  },
  {
   "cell_type": "code",
   "execution_count": 20,
   "metadata": {},
   "outputs": [],
   "source": [
    "filee = open(\"output.txt\")"
   ]
  },
  {
   "cell_type": "code",
   "execution_count": 21,
   "metadata": {},
   "outputs": [
    {
     "data": {
      "text/plain": [
       "'Hello Everyone\\nis i am audible?\\nok,lets start.\\nIn the previous we had the discussion on Gradient Descent Optimimizer.\\nOptimization: is a process in which we minimize our loss function\\nin order to get reduced generalized loss.\\nTwo type of losses:\\n1. Training loss\\n2. Generalized loss.\\nDo you the difference between them?\\nTraining Test --- error while fitting the training data.\\nTest Test ---- generalized loss\\nx_train,y_test,y_train,x_test.\\nmodel.fit(x_train,y_train)\\nmodel.score(x_train,y_train)--- training loss\\nmodel.score(x_test,y_test)--- generalized loss.\\n\\n\\n Here i am learning python'"
      ]
     },
     "execution_count": 21,
     "metadata": {},
     "output_type": "execute_result"
    }
   ],
   "source": [
    "filee.read()"
   ]
  },
  {
   "cell_type": "code",
   "execution_count": null,
   "metadata": {},
   "outputs": [],
   "source": [
    "Task2 : python program to copy odd lines of one file to other.\n",
    "    input :\n",
    "        hello everyone\n",
    "        is i am audible\n",
    "        ok,lets start\n",
    "        in the previous class.....\n",
    "    output:\n",
    "        hello everyone\n",
    "        ok,lets start"
   ]
  },
  {
   "cell_type": "code",
   "execution_count": null,
   "metadata": {},
   "outputs": [],
   "source": [
    "Approach to the problem:\n",
    "1. open a file which consist of text in read mode f\n",
    "2.open another file in write mode f1\n",
    "3. Read the content line by line of the file f and assign to a variable.\n",
    "4. Access each element from 0 to length of variable\n",
    "5. check if i is not divisible by 2 then write the content in file f1\n",
    "6. close the file f1."
   ]
  },
  {
   "cell_type": "code",
   "execution_count": 22,
   "metadata": {},
   "outputs": [],
   "source": [
    "f = open(\"DLBasics.txt\" , \"r\")\n",
    "f1 = open(\"newfile.txt\" , \"w\")\n",
    "data = f.readlines() #it returns data line by line in a list\n",
    "for i in range(0,len(data)):\n",
    "    if (i%2!=0):\n",
    "        f1.write(data[i])\n",
    "    else:\n",
    "        pass\n",
    "f1.close()"
   ]
  },
  {
   "cell_type": "code",
   "execution_count": 23,
   "metadata": {},
   "outputs": [],
   "source": [
    "file = open(\"newfile.txt\" , \"r\")"
   ]
  },
  {
   "cell_type": "code",
   "execution_count": 24,
   "metadata": {},
   "outputs": [],
   "source": [
    "data = file.read()"
   ]
  },
  {
   "cell_type": "code",
   "execution_count": 25,
   "metadata": {},
   "outputs": [
    {
     "name": "stdout",
     "output_type": "stream",
     "text": [
      "is i am audible?\n",
      "In the previous we had the discussion on Gradient Descent Optimimizer.\n",
      "in order to get reduced generalized loss.\n",
      "1. Training loss\n",
      "Do you the difference between them?\n",
      "Test Test ---- generalized loss\n",
      "model.fit(x_train,y_train)\n",
      "model.score(x_test,y_test)--- generalized loss.\n",
      "\n",
      "\n"
     ]
    }
   ],
   "source": [
    "print(data)"
   ]
  },
  {
   "cell_type": "markdown",
   "metadata": {},
   "source": [
    "# Pickling in python"
   ]
  },
  {
   "cell_type": "code",
   "execution_count": null,
   "metadata": {},
   "outputs": [],
   "source": [
    "Python pickle module is used for serializing and de-serializing a python object structure.\n",
    "Any object in python can be pickled so that it can be saved on a disk.\n",
    "What pickle does it that it \"serializes\" the object first before writing it to file. \n",
    "Pickling is a way to convert a python object (list,dict,etc) into a character stream that contains all the information necessary\n",
    "to reconstruct the object in another python script."
   ]
  },
  {
   "cell_type": "code",
   "execution_count": null,
   "metadata": {},
   "outputs": [],
   "source": [
    "The pickle module is used for implementing binary protocols for serializing and Deserializing a python object structure.\n",
    "Pickling : It is a process where a python object is converted into a byte stream.\n",
    "Unpickling: It is the inverse of pickling process where a byte stream is converted into an object."
   ]
  },
  {
   "cell_type": "code",
   "execution_count": null,
   "metadata": {},
   "outputs": [],
   "source": [
    "2 important functions of pickle module.\n",
    "1. dumps() - This is function is used to serialize an object.\n",
    "2. loads() -This function is called to de-serialize a data stream."
   ]
  },
  {
   "cell_type": "code",
   "execution_count": 26,
   "metadata": {},
   "outputs": [],
   "source": [
    "dict1 = {\"key\":\"deepak\",\"name\":\"deepak deshwar\",\"age\":21,\"sal\":50000}"
   ]
  },
  {
   "cell_type": "code",
   "execution_count": 27,
   "metadata": {},
   "outputs": [],
   "source": [
    "dict2 = {\"key\":\"shashank\",\"name\":\"shashank sharma\",\"age\":20,\"sal\":40000}"
   ]
  },
  {
   "cell_type": "code",
   "execution_count": 28,
   "metadata": {},
   "outputs": [],
   "source": [
    "db = {}\n",
    "db[\"deepak\"] = dict1"
   ]
  },
  {
   "cell_type": "code",
   "execution_count": 29,
   "metadata": {},
   "outputs": [
    {
     "data": {
      "text/plain": [
       "{'deepak': {'key': 'deepak',\n",
       "  'name': 'deepak deshwar',\n",
       "  'age': 21,\n",
       "  'sal': 50000}}"
      ]
     },
     "execution_count": 29,
     "metadata": {},
     "output_type": "execute_result"
    }
   ],
   "source": [
    "db"
   ]
  },
  {
   "cell_type": "code",
   "execution_count": 30,
   "metadata": {},
   "outputs": [],
   "source": [
    "db[\"shashank\"] = dict2"
   ]
  },
  {
   "cell_type": "code",
   "execution_count": 31,
   "metadata": {},
   "outputs": [
    {
     "data": {
      "text/plain": [
       "{'deepak': {'key': 'deepak',\n",
       "  'name': 'deepak deshwar',\n",
       "  'age': 21,\n",
       "  'sal': 50000},\n",
       " 'shashank': {'key': 'shashank',\n",
       "  'name': 'shashank sharma',\n",
       "  'age': 20,\n",
       "  'sal': 40000}}"
      ]
     },
     "execution_count": 31,
     "metadata": {},
     "output_type": "execute_result"
    }
   ],
   "source": [
    "db"
   ]
  },
  {
   "cell_type": "code",
   "execution_count": 32,
   "metadata": {},
   "outputs": [],
   "source": [
    "#for storing\n",
    "import pickle\n",
    "b = pickle.dumps(db)"
   ]
  },
  {
   "cell_type": "code",
   "execution_count": 33,
   "metadata": {},
   "outputs": [
    {
     "data": {
      "text/plain": [
       "bytes"
      ]
     },
     "execution_count": 33,
     "metadata": {},
     "output_type": "execute_result"
    }
   ],
   "source": [
    "type(b)"
   ]
  },
  {
   "cell_type": "code",
   "execution_count": 34,
   "metadata": {},
   "outputs": [
    {
     "data": {
      "text/plain": [
       "b'\\x80\\x03}q\\x00(X\\x06\\x00\\x00\\x00deepakq\\x01}q\\x02(X\\x03\\x00\\x00\\x00keyq\\x03h\\x01X\\x04\\x00\\x00\\x00nameq\\x04X\\x0e\\x00\\x00\\x00deepak deshwarq\\x05X\\x03\\x00\\x00\\x00ageq\\x06K\\x15X\\x03\\x00\\x00\\x00salq\\x07MP\\xc3uX\\x08\\x00\\x00\\x00shashankq\\x08}q\\t(h\\x03h\\x08h\\x04X\\x0f\\x00\\x00\\x00shashank sharmaq\\nh\\x06K\\x14h\\x07M@\\x9cuu.'"
      ]
     },
     "execution_count": 34,
     "metadata": {},
     "output_type": "execute_result"
    }
   ],
   "source": [
    "b"
   ]
  },
  {
   "cell_type": "code",
   "execution_count": 35,
   "metadata": {},
   "outputs": [],
   "source": [
    "#For loading\n",
    "newData = pickle.loads(b)"
   ]
  },
  {
   "cell_type": "code",
   "execution_count": 36,
   "metadata": {},
   "outputs": [
    {
     "data": {
      "text/plain": [
       "{'deepak': {'key': 'deepak',\n",
       "  'name': 'deepak deshwar',\n",
       "  'age': 21,\n",
       "  'sal': 50000},\n",
       " 'shashank': {'key': 'shashank',\n",
       "  'name': 'shashank sharma',\n",
       "  'age': 20,\n",
       "  'sal': 40000}}"
      ]
     },
     "execution_count": 36,
     "metadata": {},
     "output_type": "execute_result"
    }
   ],
   "source": [
    "newData"
   ]
  },
  {
   "cell_type": "code",
   "execution_count": 37,
   "metadata": {},
   "outputs": [
    {
     "data": {
      "text/plain": [
       "dict"
      ]
     },
     "execution_count": 37,
     "metadata": {},
     "output_type": "execute_result"
    }
   ],
   "source": [
    "type(newData)"
   ]
  },
  {
   "cell_type": "code",
   "execution_count": null,
   "metadata": {},
   "outputs": [],
   "source": [
    "How many of you have mysql installed?\n",
    "To make a connection between python and mysql"
   ]
  },
  {
   "cell_type": "code",
   "execution_count": null,
   "metadata": {},
   "outputs": [],
   "source": [
    "Mysql -- is a database in which the data stored in tables\n",
    "row and columns.\n",
    "Task: PyMySql --- we need to install it.\n",
    "    Anaconda prompt --- conda install PyMySql\n",
    "    "
   ]
  },
  {
   "cell_type": "code",
   "execution_count": 38,
   "metadata": {},
   "outputs": [],
   "source": [
    "import pymysql"
   ]
  },
  {
   "cell_type": "code",
   "execution_count": null,
   "metadata": {},
   "outputs": [],
   "source": []
  }
 ],
 "metadata": {
  "kernelspec": {
   "display_name": "Python 3",
   "language": "python",
   "name": "python3"
  },
  "language_info": {
   "codemirror_mode": {
    "name": "ipython",
    "version": 3
   },
   "file_extension": ".py",
   "mimetype": "text/x-python",
   "name": "python",
   "nbconvert_exporter": "python",
   "pygments_lexer": "ipython3",
   "version": "3.7.1"
  }
 },
 "nbformat": 4,
 "nbformat_minor": 2
}
