{
 "cells": [
  {
   "cell_type": "code",
   "execution_count": 1,
   "metadata": {},
   "outputs": [
    {
     "name": "stdout",
     "output_type": "stream",
     "text": [
      "1505\n",
      "1540\n",
      "1575\n",
      "1610\n",
      "1645\n",
      "1680\n",
      "1715\n",
      "1750\n",
      "1785\n",
      "1820\n",
      "1855\n",
      "1890\n",
      "1925\n",
      "1960\n",
      "1995\n",
      "2030\n",
      "2065\n",
      "2100\n",
      "2135\n",
      "2170\n",
      "2205\n",
      "2240\n",
      "2275\n",
      "2310\n",
      "2345\n",
      "2380\n",
      "2415\n",
      "2450\n",
      "2485\n",
      "2520\n",
      "2555\n",
      "2590\n",
      "2625\n",
      "2660\n",
      "2695\n"
     ]
    }
   ],
   "source": [
    "# #Write a python program to find those numbers which are divisible by 7and multiple of 5, between 1500 and 2700 (both included)\n",
    "l1=list(range(1500,2700))\n",
    "for i in l1:\n",
    "    if i%7==0 and i%5==0:\n",
    "        print(i)\n"
   ]
  },
  {
   "cell_type": "code",
   "execution_count": null,
   "metadata": {},
   "outputs": [],
   "source": [
    "Write a python code to count the number of even and odd numbers in a list.\n"
   ]
  },
  {
   "cell_type": "code",
   "execution_count": 2,
   "metadata": {},
   "outputs": [],
   "source": [
    "list1 = [1,4,6,8,9,12,15]"
   ]
  },
  {
   "cell_type": "code",
   "execution_count": 6,
   "metadata": {},
   "outputs": [
    {
     "name": "stdout",
     "output_type": "stream",
     "text": [
      "Even number present in list  4\n",
      "Odd numbers present in list  3\n"
     ]
    }
   ],
   "source": [
    "even_count , odd_count = 0,0\n",
    "for i in list1:\n",
    "    if i%2==0:\n",
    "        #print(i,\"The number is even \")\n",
    "        even_count +=1\n",
    "    else:\n",
    "        #print(i,\"The number is odd..\")\n",
    "        odd_count+=1\n",
    "print(\"Even number present in list \" , even_count)\n",
    "print(\"Odd numbers present in list \" , odd_count)"
   ]
  },
  {
   "cell_type": "code",
   "execution_count": null,
   "metadata": {},
   "outputs": [],
   "source": [
    "fibonacci series:\n",
    "0,1,1,2,3,5,8,13,21,.....\n",
    "Now, you have to write a python program to print a fibonacci series\n",
    "using for loop, and no of items present in fibonacci series should be taken \n",
    "by user."
   ]
  },
  {
   "cell_type": "code",
   "execution_count": 9,
   "metadata": {},
   "outputs": [
    {
     "name": "stdout",
     "output_type": "stream",
     "text": [
      "Enter number...4\n"
     ]
    }
   ],
   "source": [
    "a = int(input(\"Enter number...\"))"
   ]
  },
  {
   "cell_type": "code",
   "execution_count": 10,
   "metadata": {},
   "outputs": [
    {
     "data": {
      "text/plain": [
       "int"
      ]
     },
     "execution_count": 10,
     "metadata": {},
     "output_type": "execute_result"
    }
   ],
   "source": [
    "type(a)"
   ]
  },
  {
   "cell_type": "code",
   "execution_count": null,
   "metadata": {},
   "outputs": [],
   "source": [
    "1. aapko user s phuchna h ki how many numbers you want in a series\n",
    "suppose user ne enter kia 6.\n",
    "0,1,1,2,3,5----- This should be the output\n",
    "a = 0\n",
    "b = 1\n",
    "c = a + b\n",
    "print(c)\n",
    "a = b\n",
    "b = c\n",
    "\n",
    "\n",
    "\n",
    "\n"
   ]
  },
  {
   "cell_type": "code",
   "execution_count": 14,
   "metadata": {},
   "outputs": [
    {
     "name": "stdout",
     "output_type": "stream",
     "text": [
      "Please Enter how much numbers you want in fibonacci...4\n",
      "0\n",
      "1\n",
      "1\n",
      "2\n"
     ]
    }
   ],
   "source": [
    "num = int(input(\"Please Enter how much numbers you want in fibonacci...\"))\n",
    "a = 0\n",
    "b = 1\n",
    "print(a)\n",
    "print(b)\n",
    "if num<=0 and num==1:\n",
    "    print(\"Fibonacci doesnt exist for less than two numbers.\")\n",
    "for i in range(2,num):\n",
    "    c = a + b\n",
    "    print(c)\n",
    "    a= b\n",
    "    b = c"
   ]
  },
  {
   "cell_type": "code",
   "execution_count": null,
   "metadata": {},
   "outputs": [],
   "source": [
    "Prime numbers --- Prime numbers are natural numbers greater than 1 and having \n",
    "no positive divisor other than 1 and itself.\n",
    "For eg: 3,7 and 11 are prime numbers.\n",
    "Write a Python program to check either a number is prime or not , number\n",
    "should be entered by user."
   ]
  },
  {
   "cell_type": "code",
   "execution_count": 17,
   "metadata": {},
   "outputs": [
    {
     "name": "stdout",
     "output_type": "stream",
     "text": [
      "enter any number9\n",
      "no. is prime\n"
     ]
    }
   ],
   "source": [
    "n=int(input(\"enter any number\"))\n",
    "if n%2!=0:\n",
    "    print(\"no. is prime\")\n",
    "else:\n",
    "    print(\"not prime\")\n",
    "    \n",
    "IT is wrong.\n"
   ]
  },
  {
   "cell_type": "code",
   "execution_count": 18,
   "metadata": {},
   "outputs": [
    {
     "name": "stdout",
     "output_type": "stream",
     "text": [
      "Enter your number of check the prime or not9\n",
      "number is prime\n"
     ]
    }
   ],
   "source": [
    "y=int(input(\"Enter your number of check the prime or not\"))\n",
    "for i in (2,y):\n",
    "    if (y%2)==0:\n",
    "        print(y,\"number is not prime\")\n",
    "        break\n",
    "else:\n",
    "    print(\"number is prime\")\n"
   ]
  },
  {
   "cell_type": "code",
   "execution_count": 22,
   "metadata": {},
   "outputs": [
    {
     "name": "stdout",
     "output_type": "stream",
     "text": [
      "Enter your number of check the prime or not 25\n",
      "25 is not prime number \n"
     ]
    }
   ],
   "source": [
    "num=int(input(\"Enter your number of check the prime or not \"))\n",
    "if num >1 :\n",
    "    for i in range(2,num):\n",
    "        if (num % i) == 0:\n",
    "            print(num, \"is not prime number \")\n",
    "            break\n",
    "    else:\n",
    "        print(num ,\"is a prime number \")\n",
    "else:\n",
    "    print(num,\"is not a prime number\")\n",
    "        "
   ]
  },
  {
   "cell_type": "markdown",
   "metadata": {},
   "source": [
    "# The While loop"
   ]
  },
  {
   "cell_type": "code",
   "execution_count": null,
   "metadata": {},
   "outputs": [],
   "source": [
    "with the while loop we can execute a set of statements as long as a condition is True.\n",
    "Syntax:\n",
    "    while condition:\n",
    "        Body of while"
   ]
  },
  {
   "cell_type": "code",
   "execution_count": 1,
   "metadata": {},
   "outputs": [
    {
     "name": "stdout",
     "output_type": "stream",
     "text": [
      "1\n",
      "2\n",
      "3\n",
      "4\n",
      "5\n"
     ]
    }
   ],
   "source": [
    "i = 1\n",
    "while i < 6: #This condition is always remain true.\n",
    "    print(i)\n",
    "    i = i + 1"
   ]
  },
  {
   "cell_type": "code",
   "execution_count": null,
   "metadata": {},
   "outputs": [],
   "source": [
    "The while loop requires relevant variables to be ready as in above example\n",
    "we need to set an index variable i.\n",
    "NOTe:we always need to increment and decrement the index variable\n",
    " so that the program doesnt enter into infinite loop.   \n"
   ]
  },
  {
   "cell_type": "code",
   "execution_count": 2,
   "metadata": {},
   "outputs": [
    {
     "name": "stdout",
     "output_type": "stream",
     "text": [
      "The sum is  55\n"
     ]
    }
   ],
   "source": [
    "n = 10\n",
    "sum = 0 #To initialize sum and counter\n",
    "i = 1\n",
    "while i<=n:\n",
    "    sum = sum + i\n",
    "    i = i + 1 #Updating counter\n",
    "print(\"The sum is \" , sum)"
   ]
  },
  {
   "cell_type": "code",
   "execution_count": null,
   "metadata": {},
   "outputs": [],
   "source": [
    "while 1: \n",
    "    print(\"a\")"
   ]
  },
  {
   "cell_type": "code",
   "execution_count": null,
   "metadata": {},
   "outputs": [],
   "source": [
    "while True:\n",
    "    print(\"b\")"
   ]
  },
  {
   "cell_type": "code",
   "execution_count": 1,
   "metadata": {},
   "outputs": [
    {
     "name": "stdout",
     "output_type": "stream",
     "text": [
      "Zero means condition is false\n"
     ]
    }
   ],
   "source": [
    "while 0:\n",
    "    print(\"b\")\n",
    "print(\"Zero means condition is false\")"
   ]
  },
  {
   "cell_type": "code",
   "execution_count": null,
   "metadata": {},
   "outputs": [],
   "source": []
  },
  {
   "cell_type": "code",
   "execution_count": null,
   "metadata": {},
   "outputs": [],
   "source": [
    "while False:\n"
   ]
  },
  {
   "cell_type": "code",
   "execution_count": 2,
   "metadata": {},
   "outputs": [
    {
     "name": "stdout",
     "output_type": "stream",
     "text": [
      "This also wont work\n"
     ]
    }
   ],
   "source": [
    "while None:\n",
    "    print(\"c\")\n",
    "print(\"This also wont work\")"
   ]
  },
  {
   "cell_type": "code",
   "execution_count": null,
   "metadata": {},
   "outputs": [],
   "source": [
    "Ques1: Print first 10 natural numbers usinh while loop."
   ]
  },
  {
   "cell_type": "code",
   "execution_count": 4,
   "metadata": {},
   "outputs": [
    {
     "name": "stdout",
     "output_type": "stream",
     "text": [
      "1\n",
      "2\n",
      "3\n",
      "4\n",
      "5\n",
      "6\n",
      "7\n",
      "8\n",
      "9\n",
      "10\n"
     ]
    }
   ],
   "source": [
    "i = 1\n",
    "while i <=10:\n",
    "    print(i)\n",
    "    i = i +1"
   ]
  },
  {
   "cell_type": "code",
   "execution_count": null,
   "metadata": {},
   "outputs": [],
   "source": [
    "10,9,8,7,6,5,4,3,2,1."
   ]
  },
  {
   "cell_type": "code",
   "execution_count": 2,
   "metadata": {},
   "outputs": [
    {
     "name": "stdout",
     "output_type": "stream",
     "text": [
      "10\n",
      "9\n",
      "8\n",
      "7\n",
      "6\n",
      "5\n",
      "4\n",
      "3\n",
      "2\n",
      "1\n"
     ]
    }
   ],
   "source": [
    "i=10\n",
    "while i<=10 and i>=1:\n",
    "    print(i)\n",
    "    i=i-1\n"
   ]
  },
  {
   "cell_type": "code",
   "execution_count": 3,
   "metadata": {},
   "outputs": [
    {
     "name": "stdout",
     "output_type": "stream",
     "text": [
      "10\n",
      "9\n",
      "8\n",
      "7\n",
      "6\n",
      "5\n",
      "4\n",
      "3\n",
      "2\n",
      "1\n"
     ]
    }
   ],
   "source": [
    "i=10\n",
    "while i >=1:\n",
    "    print(i)\n",
    "    i=i-1"
   ]
  },
  {
   "cell_type": "code",
   "execution_count": null,
   "metadata": {},
   "outputs": [],
   "source": [
    "ques2: Take 10 integers from keyboard using loop and print their average value on the screen.\n",
    "JO aap input loge user s wo hum loop k andar lenge.\n",
    "mean = sum of observations/no. of observations."
   ]
  },
  {
   "cell_type": "code",
   "execution_count": 5,
   "metadata": {},
   "outputs": [
    {
     "name": "stdout",
     "output_type": "stream",
     "text": [
      "Enter number\n",
      "2\n",
      "Enter number\n",
      "5\n",
      "Enter number\n",
      "8\n",
      "Enter number\n",
      "9\n",
      "Enter number\n",
      "45\n",
      "Enter number\n",
      "34\n",
      "Enter number\n",
      "76\n",
      "Enter number\n",
      "34\n",
      "Enter number\n",
      "56\n",
      "Enter number\n",
      "78\n",
      "The average is  34.7\n"
     ]
    }
   ],
   "source": [
    "sum1 = 0\n",
    "i = 10\n",
    "while i>0:\n",
    "    print(\"Enter number\")\n",
    "    num = int(input( ))\n",
    "    sum1 = sum1 +num\n",
    "    i = i-1\n",
    "print(\"The average is \" , sum1/10)\n",
    "    \n",
    "    \n",
    "    \n",
    "    "
   ]
  },
  {
   "cell_type": "code",
   "execution_count": null,
   "metadata": {},
   "outputs": [],
   "source": [
    "ques1: Print multipication table of 24,50 and 29 using while loop.\n",
    "ques2: Write a program to clculate factorial of a number.\n",
    "       Entered by a user.\n",
    "        5 = 5 * 4 *3 *2*1 = 120\n"
   ]
  }
 ],
 "metadata": {
  "kernelspec": {
   "display_name": "Python 3",
   "language": "python",
   "name": "python3"
  },
  "language_info": {
   "codemirror_mode": {
    "name": "ipython",
    "version": 3
   },
   "file_extension": ".py",
   "mimetype": "text/x-python",
   "name": "python",
   "nbconvert_exporter": "python",
   "pygments_lexer": "ipython3",
   "version": "3.7.1"
  }
 },
 "nbformat": 4,
 "nbformat_minor": 2
}
